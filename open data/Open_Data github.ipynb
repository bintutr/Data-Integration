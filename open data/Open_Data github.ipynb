{
 "cells": [
  {
   "cell_type": "markdown",
   "id": "cba21ebc-ff0c-4e1d-8573-681590526da8",
   "metadata": {},
   "source": [
    "# Actvidad 2 Open Data: Áreas infantiles municipales"
   ]
  },
  {
   "cell_type": "markdown",
   "id": "fab0886d-6aaf-4d26-8efb-6539c45e7045",
   "metadata": {},
   "source": [
    "A través de los datos abiertos del ayuntamiento de Madrid, exploraremos la base de datos de las Áreas infatiles municipales en Madrid del 2025 [link](https://datos.madrid.es/portal/site/egob/menuitem.c05c1f754a33a9fbe4b2e4b284f1a5a0/?vgnextoid=337541000be13410VgnVCM2000000c205a0aRCRD&vgnextchannel=374512b9ace9f310VgnVCM100000171f5a0aRCRD&vgnextfmt=default) para ver que información podemos extraer al respecto."
   ]
  },
  {
   "cell_type": "markdown",
   "id": "72af13af-4ecf-475c-856a-a89f24c0e814",
   "metadata": {},
   "source": [
    "## 1. Importación de la base de datos y print para hacernos una idea de la estructura de los datos.\n"
   ]
  },
  {
   "cell_type": "code",
   "execution_count": 3,
   "id": "3a188104-8fbe-4db6-81d8-2e0ab539ec07",
   "metadata": {},
   "outputs": [],
   "source": [
    "import pandas as pd\n",
    "df_rawdata = pd.read_csv(\"https://raw.githubusercontent.com/bintutr/Data-Integration/refs/heads/main/areas_infantiles202501.csv\", delimiter=';')"
   ]
  },
  {
   "cell_type": "code",
   "execution_count": 5,
   "id": "df7c4e33-6c32-46d3-9882-7edc813660a7",
   "metadata": {},
   "outputs": [
    {
     "name": "stdout",
     "output_type": "stream",
     "text": [
      "           ID DESC_CLASIFICACION  COD_BARRIO         BARRIO  COD_DISTRITO  \\\n",
      "0     5240286      Área Infantil         101   LOS CARMENES            10   \n",
      "1       17031      Área Infantil          87     MIRASIERRA             8   \n",
      "2       16666      Área Infantil          14       JUSTICIA             1   \n",
      "3     5237133      Área Infantil         166   VALDEFUENTES            16   \n",
      "4       52225      Área Infantil         192  VALDEBERNARDO            19   \n",
      "...       ...                ...         ...            ...           ...   \n",
      "2157    18277      Área Infantil         175        ANGELES            17   \n",
      "2158    18118      Área Infantil         161        PALOMAS            16   \n",
      "2159  9424149      Área Infantil          22        ACACIAS             2   \n",
      "2160    17453      Área Infantil         117       ABRANTES            11   \n",
      "2161  8914012      Área Infantil         143     MARROQUINA            14   \n",
      "\n",
      "                   DISTRITO     ESTADO  COORD_GIS_X  COORD_GIS_Y  \\\n",
      "0                    LATINA  OPERATIVO   438721.571  4473389.830   \n",
      "1     FUENCARRAL - EL PARDO  OPERATIVO   438893.109  4482118.888   \n",
      "2                    CENTRO  OPERATIVO   440657.773  4474736.539   \n",
      "3                 HORTALEZA  OPERATIVO   446923.980  4481799.850   \n",
      "4                 VICALVARO  OPERATIVO   446775.160  4471852.715   \n",
      "...                     ...        ...          ...          ...   \n",
      "2157             VILLAVERDE  OPERATIVO   440667.164  4467530.617   \n",
      "2158              HORTALEZA  OPERATIVO   446949.409  4478179.191   \n",
      "2159             ARGANZUELA  OPERATIVO   439995.071  4472023.818   \n",
      "2160            CARABANCHEL  OPERATIVO   437914.728  4469843.416   \n",
      "2161              MORATALAZ  OPERATIVO   446470.120  4473710.080   \n",
      "\n",
      "     SISTEMA_COORD  ...                          NOM_VIA  NUM_VIA COD_POSTAL  \\\n",
      "0           ETRS89  ...                              NaN      NaN    28005.0   \n",
      "1           ETRS89  ...               VALLE DE LA JAROSA      113    28035.0   \n",
      "2           ETRS89  ...                              NaN      NaN        NaN   \n",
      "3           ETRS89  ...   Avenida de las Fuerzas Armadas       11    28055.0   \n",
      "4           ETRS89  ...                        PERGAMINO        1    28032.0   \n",
      "...            ...  ...                              ...      ...        ...   \n",
      "2157        ETRS89  ...         EL HUESPED DEL SEVILLANO       13    28041.0   \n",
      "2158        ETRS89  ...                          ESPUELA        5    28042.0   \n",
      "2159        ETRS89  ...                              NaN      NaN    28005.0   \n",
      "2160        ETRS89  ...               RENDICION DE BREDA        7    28025.0   \n",
      "2161        ETRS89  ...  Avenida del Doctor Garcia Tapia      125    28030.0   \n",
      "\n",
      "                                          DIRECCION_AUX         NDP  \\\n",
      "0                                                   NaN         NaN   \n",
      "1     PLAZA VALLE DE LA JAROSA 113 CON PEÑA DEL CUER...  20088984.0   \n",
      "2     Pza · PLAZA VAZQUEZ DE MELLA 6 , ASCENDIENTE 1: 0  11004540.0   \n",
      "3                                                   NaN         NaN   \n",
      "4                                     PERGAMINO, 000001  20120688.0   \n",
      "...                                                 ...         ...   \n",
      "2157                   EL HUÉSPED DEL SEVILLANO, 000013  11143071.0   \n",
      "2158  C · CALLE ESPUELA 5 , ASCENDIENTE 1: 161 · PALOMA  20149935.0   \n",
      "2159                                                NaN         NaN   \n",
      "2160                      PZ RENDICIÓN DE BREDA, 000007  11078747.0   \n",
      "2161                                                NaN         NaN   \n",
      "\n",
      "          FECHA_INSTALACION CODIGO_INTERNO  CONTRATO_COD      TIPO TOTAL_ELEM  \n",
      "0                       NaN      AI_900005          PV24  INFANTIL          6  \n",
      "1     2007-01-09 00:00:00.0          08029          AE21  INFANTIL          7  \n",
      "2     2004-09-30 00:00:00.0          01013          AE21  INFANTIL          5  \n",
      "3                       NaN            NaN          PV24  INFANTIL          1  \n",
      "4     2003-01-01 00:00:00.0          19059          AE21  INFANTIL          9  \n",
      "...                     ...            ...           ...       ...        ...  \n",
      "2157  2004-01-01 00:00:00.0          17107          AE21  INFANTIL          7  \n",
      "2158  2006-01-01 00:00:00.0          16109          AE21  INFANTIL         10  \n",
      "2159                    NaN      AI_900023          PV24  INFANTIL          0  \n",
      "2160  2004-01-01 00:00:00.0          11052          AE21  INFANTIL          7  \n",
      "2161                    NaN            NaN          PV24  INFANTIL          0  \n",
      "\n",
      "[2162 rows x 23 columns]\n"
     ]
    }
   ],
   "source": [
    "print(df_rawdata)"
   ]
  },
  {
   "cell_type": "markdown",
   "id": "b5cc8fbc-8810-4b65-9010-4d838e24b654",
   "metadata": {},
   "source": [
    "Podemos observar que el Dataframe está compuesto por 23 columnas y 2162 filas. Así mismo, se observa que la existencia de valores nulos en algunas de las columnas."
   ]
  },
  {
   "cell_type": "markdown",
   "id": "2a41cb1d-dd49-48be-9e44-212b3a675cf9",
   "metadata": {},
   "source": [
    "# 2. En caso de no hacer un print del Dataframe, podríamos utilizar el código SHAPE para ver directamente las filas y columnas."
   ]
  },
  {
   "cell_type": "code",
   "execution_count": 6,
   "id": "0c4877a5-776c-4e75-85dc-d8c331739bb8",
   "metadata": {},
   "outputs": [
    {
     "data": {
      "text/plain": [
       "(2162, 23)"
      ]
     },
     "execution_count": 6,
     "metadata": {},
     "output_type": "execute_result"
    }
   ],
   "source": [
    "df_rawdata.shape"
   ]
  },
  {
   "cell_type": "markdown",
   "id": "fe51a832-bc87-4399-ac8f-cb2fe9d5bab6",
   "metadata": {},
   "source": [
    "# 3. Adentrémonos un poco más a las características de los datos..."
   ]
  },
  {
   "cell_type": "code",
   "execution_count": 7,
   "id": "b2ba9c52-6ecc-4ed9-aefc-0294062f3f38",
   "metadata": {},
   "outputs": [
    {
     "name": "stdout",
     "output_type": "stream",
     "text": [
      "<class 'pandas.core.frame.DataFrame'>\n",
      "RangeIndex: 2162 entries, 0 to 2161\n",
      "Data columns (total 23 columns):\n",
      " #   Column              Non-Null Count  Dtype  \n",
      "---  ------              --------------  -----  \n",
      " 0   ID                  2162 non-null   int64  \n",
      " 1   DESC_CLASIFICACION  2162 non-null   object \n",
      " 2   COD_BARRIO          2162 non-null   int64  \n",
      " 3   BARRIO              2162 non-null   object \n",
      " 4   COD_DISTRITO        2162 non-null   int64  \n",
      " 5   DISTRITO            2162 non-null   object \n",
      " 6   ESTADO              2162 non-null   object \n",
      " 7   COORD_GIS_X         2162 non-null   float64\n",
      " 8   COORD_GIS_Y         2162 non-null   float64\n",
      " 9   SISTEMA_COORD       2162 non-null   object \n",
      " 10  LATITUD             2162 non-null   float64\n",
      " 11  LONGITUD            2162 non-null   float64\n",
      " 12  TIPO_VIA            2065 non-null   object \n",
      " 13  NOM_VIA             2065 non-null   object \n",
      " 14  NUM_VIA             2064 non-null   object \n",
      " 15  COD_POSTAL          2125 non-null   float64\n",
      " 16  DIRECCION_AUX       1919 non-null   object \n",
      " 17  NDP                 2036 non-null   float64\n",
      " 18  FECHA_INSTALACION   2048 non-null   object \n",
      " 19  CODIGO_INTERNO      2093 non-null   object \n",
      " 20  CONTRATO_COD        2162 non-null   object \n",
      " 21  TIPO                2162 non-null   object \n",
      " 22  TOTAL_ELEM          2162 non-null   int64  \n",
      "dtypes: float64(6), int64(4), object(13)\n",
      "memory usage: 388.6+ KB\n"
     ]
    }
   ],
   "source": [
    "df_rawdata.info()\n"
   ]
  },
  {
   "cell_type": "markdown",
   "id": "1390ef40-b35f-4ad8-a3ca-ded22a70a3fb",
   "metadata": {},
   "source": [
    "A través del código info, podemos observar el número total de filas que no tienen valores nulos, así mismmo, el tipo de datos que contiene cada una de las 22 columnas que conforman el Dataframe. Por último, se puede observar cuanta memoria ocupa el Dataframe.\n"
   ]
  },
  {
   "cell_type": "markdown",
   "id": "8125ab4c-623c-4af1-bd24-f9de039ca154",
   "metadata": {},
   "source": [
    "# 3. Resumiendo el punto 2 con el código dtypes:"
   ]
  },
  {
   "cell_type": "code",
   "execution_count": 8,
   "id": "a9d77289-07dd-4fcb-89fe-861e97e02f5e",
   "metadata": {},
   "outputs": [
    {
     "data": {
      "text/plain": [
       "ID                      int64\n",
       "DESC_CLASIFICACION     object\n",
       "COD_BARRIO              int64\n",
       "BARRIO                 object\n",
       "COD_DISTRITO            int64\n",
       "DISTRITO               object\n",
       "ESTADO                 object\n",
       "COORD_GIS_X           float64\n",
       "COORD_GIS_Y           float64\n",
       "SISTEMA_COORD          object\n",
       "LATITUD               float64\n",
       "LONGITUD              float64\n",
       "TIPO_VIA               object\n",
       "NOM_VIA                object\n",
       "NUM_VIA                object\n",
       "COD_POSTAL            float64\n",
       "DIRECCION_AUX          object\n",
       "NDP                   float64\n",
       "FECHA_INSTALACION      object\n",
       "CODIGO_INTERNO         object\n",
       "CONTRATO_COD           object\n",
       "TIPO                   object\n",
       "TOTAL_ELEM              int64\n",
       "dtype: object"
      ]
     },
     "execution_count": 8,
     "metadata": {},
     "output_type": "execute_result"
    }
   ],
   "source": [
    "df_rawdata.dtypes"
   ]
  },
  {
   "cell_type": "markdown",
   "id": "639bc78d-5781-47e9-8f8b-c149a7e038f5",
   "metadata": {},
   "source": [
    "En caso de querer obtener únicamente información con respecto al tipo de datos de cada columnna este código nos permitiria obtener únicamente está información."
   ]
  },
  {
   "cell_type": "markdown",
   "id": "8a1984f1-7a67-46bf-942d-45b4cd63f8c1",
   "metadata": {},
   "source": [
    "# 4. Resumen estadístico de los datos:"
   ]
  },
  {
   "cell_type": "code",
   "execution_count": 9,
   "id": "55620456-06f6-4bf4-80ea-c0630fcc12d2",
   "metadata": {},
   "outputs": [
    {
     "data": {
      "text/html": [
       "<div>\n",
       "<style scoped>\n",
       "    .dataframe tbody tr th:only-of-type {\n",
       "        vertical-align: middle;\n",
       "    }\n",
       "\n",
       "    .dataframe tbody tr th {\n",
       "        vertical-align: top;\n",
       "    }\n",
       "\n",
       "    .dataframe thead th {\n",
       "        text-align: right;\n",
       "    }\n",
       "</style>\n",
       "<table border=\"1\" class=\"dataframe\">\n",
       "  <thead>\n",
       "    <tr style=\"text-align: right;\">\n",
       "      <th></th>\n",
       "      <th>ID</th>\n",
       "      <th>COD_BARRIO</th>\n",
       "      <th>COD_DISTRITO</th>\n",
       "      <th>COORD_GIS_X</th>\n",
       "      <th>COORD_GIS_Y</th>\n",
       "      <th>LATITUD</th>\n",
       "      <th>LONGITUD</th>\n",
       "      <th>COD_POSTAL</th>\n",
       "      <th>NDP</th>\n",
       "      <th>TOTAL_ELEM</th>\n",
       "    </tr>\n",
       "  </thead>\n",
       "  <tbody>\n",
       "    <tr>\n",
       "      <th>count</th>\n",
       "      <td>2.162000e+03</td>\n",
       "      <td>2162.000000</td>\n",
       "      <td>2162.000000</td>\n",
       "      <td>2162.000000</td>\n",
       "      <td>2.162000e+03</td>\n",
       "      <td>2162.000000</td>\n",
       "      <td>2162.000000</td>\n",
       "      <td>2125.000000</td>\n",
       "      <td>2.036000e+03</td>\n",
       "      <td>2162.000000</td>\n",
       "    </tr>\n",
       "    <tr>\n",
       "      <th>mean</th>\n",
       "      <td>7.477009e+05</td>\n",
       "      <td>128.978261</td>\n",
       "      <td>12.511101</td>\n",
       "      <td>442676.381984</td>\n",
       "      <td>4.474820e+06</td>\n",
       "      <td>40.422025</td>\n",
       "      <td>-3.675724</td>\n",
       "      <td>27847.597647</td>\n",
       "      <td>1.941960e+07</td>\n",
       "      <td>10.548104</td>\n",
       "    </tr>\n",
       "    <tr>\n",
       "      <th>std</th>\n",
       "      <td>1.978134e+06</td>\n",
       "      <td>52.526021</td>\n",
       "      <td>5.253070</td>\n",
       "      <td>4328.329425</td>\n",
       "      <td>4.757706e+03</td>\n",
       "      <td>0.042916</td>\n",
       "      <td>0.050942</td>\n",
       "      <td>2268.389082</td>\n",
       "      <td>8.429462e+06</td>\n",
       "      <td>5.509468</td>\n",
       "    </tr>\n",
       "    <tr>\n",
       "      <th>min</th>\n",
       "      <td>1.665700e+04</td>\n",
       "      <td>11.000000</td>\n",
       "      <td>1.000000</td>\n",
       "      <td>429551.575000</td>\n",
       "      <td>4.464949e+06</td>\n",
       "      <td>40.332965</td>\n",
       "      <td>-3.831082</td>\n",
       "      <td>0.000000</td>\n",
       "      <td>1.100019e+07</td>\n",
       "      <td>0.000000</td>\n",
       "    </tr>\n",
       "    <tr>\n",
       "      <th>25%</th>\n",
       "      <td>1.732525e+04</td>\n",
       "      <td>93.000000</td>\n",
       "      <td>9.000000</td>\n",
       "      <td>439564.116750</td>\n",
       "      <td>4.470773e+06</td>\n",
       "      <td>40.385558</td>\n",
       "      <td>-3.712255</td>\n",
       "      <td>28022.000000</td>\n",
       "      <td>1.109285e+07</td>\n",
       "      <td>7.000000</td>\n",
       "    </tr>\n",
       "    <tr>\n",
       "      <th>50%</th>\n",
       "      <td>1.791050e+04</td>\n",
       "      <td>133.000000</td>\n",
       "      <td>13.000000</td>\n",
       "      <td>443035.219000</td>\n",
       "      <td>4.474055e+06</td>\n",
       "      <td>40.415158</td>\n",
       "      <td>-3.671464</td>\n",
       "      <td>28032.000000</td>\n",
       "      <td>2.006189e+07</td>\n",
       "      <td>9.000000</td>\n",
       "    </tr>\n",
       "    <tr>\n",
       "      <th>75%</th>\n",
       "      <td>1.849775e+04</td>\n",
       "      <td>166.000000</td>\n",
       "      <td>16.000000</td>\n",
       "      <td>446199.897500</td>\n",
       "      <td>4.478934e+06</td>\n",
       "      <td>40.459122</td>\n",
       "      <td>-3.634144</td>\n",
       "      <td>28042.000000</td>\n",
       "      <td>3.101029e+07</td>\n",
       "      <td>13.000000</td>\n",
       "    </tr>\n",
       "    <tr>\n",
       "      <th>max</th>\n",
       "      <td>9.424149e+06</td>\n",
       "      <td>215.000000</td>\n",
       "      <td>21.000000</td>\n",
       "      <td>453385.843000</td>\n",
       "      <td>4.487423e+06</td>\n",
       "      <td>40.534872</td>\n",
       "      <td>-3.549355</td>\n",
       "      <td>28055.000000</td>\n",
       "      <td>3.106697e+07</td>\n",
       "      <td>57.000000</td>\n",
       "    </tr>\n",
       "  </tbody>\n",
       "</table>\n",
       "</div>"
      ],
      "text/plain": [
       "                 ID   COD_BARRIO  COD_DISTRITO    COORD_GIS_X   COORD_GIS_Y  \\\n",
       "count  2.162000e+03  2162.000000   2162.000000    2162.000000  2.162000e+03   \n",
       "mean   7.477009e+05   128.978261     12.511101  442676.381984  4.474820e+06   \n",
       "std    1.978134e+06    52.526021      5.253070    4328.329425  4.757706e+03   \n",
       "min    1.665700e+04    11.000000      1.000000  429551.575000  4.464949e+06   \n",
       "25%    1.732525e+04    93.000000      9.000000  439564.116750  4.470773e+06   \n",
       "50%    1.791050e+04   133.000000     13.000000  443035.219000  4.474055e+06   \n",
       "75%    1.849775e+04   166.000000     16.000000  446199.897500  4.478934e+06   \n",
       "max    9.424149e+06   215.000000     21.000000  453385.843000  4.487423e+06   \n",
       "\n",
       "           LATITUD     LONGITUD    COD_POSTAL           NDP   TOTAL_ELEM  \n",
       "count  2162.000000  2162.000000   2125.000000  2.036000e+03  2162.000000  \n",
       "mean     40.422025    -3.675724  27847.597647  1.941960e+07    10.548104  \n",
       "std       0.042916     0.050942   2268.389082  8.429462e+06     5.509468  \n",
       "min      40.332965    -3.831082      0.000000  1.100019e+07     0.000000  \n",
       "25%      40.385558    -3.712255  28022.000000  1.109285e+07     7.000000  \n",
       "50%      40.415158    -3.671464  28032.000000  2.006189e+07     9.000000  \n",
       "75%      40.459122    -3.634144  28042.000000  3.101029e+07    13.000000  \n",
       "max      40.534872    -3.549355  28055.000000  3.106697e+07    57.000000  "
      ]
     },
     "execution_count": 9,
     "metadata": {},
     "output_type": "execute_result"
    }
   ],
   "source": [
    "df_rawdata.describe()"
   ]
  },
  {
   "cell_type": "markdown",
   "id": "17c3e5bf-d935-4692-83c4-8f3df2d1e82a",
   "metadata": {},
   "source": [
    "A través de este resumen estadístico, podemos osbervar un resumen de las columnas númericas de nuestro Dataframe. Este resumen nos permite tener una idea rápida de la distribución de los datos de nuestro Dataframe."
   ]
  },
  {
   "cell_type": "markdown",
   "id": "e89a3c44-c0ae-492b-8f2c-bff6b3e3d137",
   "metadata": {},
   "source": [
    "# 5. Valores nulos"
   ]
  },
  {
   "cell_type": "code",
   "execution_count": 10,
   "id": "cbdbb2b8-8df6-4cb9-a29c-a1d155813fbd",
   "metadata": {},
   "outputs": [
    {
     "name": "stdout",
     "output_type": "stream",
     "text": [
      "ID                      0\n",
      "DESC_CLASIFICACION      0\n",
      "COD_BARRIO              0\n",
      "BARRIO                  0\n",
      "COD_DISTRITO            0\n",
      "DISTRITO                0\n",
      "ESTADO                  0\n",
      "COORD_GIS_X             0\n",
      "COORD_GIS_Y             0\n",
      "SISTEMA_COORD           0\n",
      "LATITUD                 0\n",
      "LONGITUD                0\n",
      "TIPO_VIA               97\n",
      "NOM_VIA                97\n",
      "NUM_VIA                98\n",
      "COD_POSTAL             37\n",
      "DIRECCION_AUX         243\n",
      "NDP                   126\n",
      "FECHA_INSTALACION     114\n",
      "CODIGO_INTERNO         69\n",
      "CONTRATO_COD            0\n",
      "TIPO                    0\n",
      "TOTAL_ELEM              0\n",
      "dtype: int64\n"
     ]
    }
   ],
   "source": [
    "valores_nulos = df_rawdata.isnull().sum()\n",
    "print(valores_nulos)"
   ]
  },
  {
   "cell_type": "markdown",
   "id": "3353ffc1-7217-47b2-98f8-d22aabbaddf3",
   "metadata": {},
   "source": [
    "A través de la función isnull, podemos observar la cantidad de valores nulos que hay en cada una de las columnas."
   ]
  },
  {
   "cell_type": "markdown",
   "id": "fff8665c-4385-4584-b62d-7e5b602b5f76",
   "metadata": {},
   "source": [
    "# 6. Eliminación de valores nulos"
   ]
  },
  {
   "cell_type": "code",
   "execution_count": 11,
   "id": "868939a8-9800-463f-94ae-3254d45028d8",
   "metadata": {},
   "outputs": [],
   "source": [
    "datos_sin_nulos = df_rawdata.dropna(inplace=True)"
   ]
  },
  {
   "cell_type": "markdown",
   "id": "8a85e04c-0ca4-4a93-a8a0-0168ca3b4a42",
   "metadata": {},
   "source": [
    "Una vez visto los valores nulos que hay en cada una de las columnas, decido eliminar del Dataframe original todas aquellas filas que contienen valores nulos. Al ser un Dataframe con bastante datos, considero que no afectará a la posterior interpretación de los datos."
   ]
  },
  {
   "cell_type": "markdown",
   "id": "035af1a5-6fc0-4632-9e1e-502a36f68983",
   "metadata": {},
   "source": [
    "# 7. Comprobación de la eliminación de los valores nulos"
   ]
  },
  {
   "cell_type": "code",
   "execution_count": 12,
   "id": "414e0ba7-9b3d-4063-84b6-d545a92c2e0d",
   "metadata": {},
   "outputs": [
    {
     "name": "stdout",
     "output_type": "stream",
     "text": [
      "ID                    0\n",
      "DESC_CLASIFICACION    0\n",
      "COD_BARRIO            0\n",
      "BARRIO                0\n",
      "COD_DISTRITO          0\n",
      "DISTRITO              0\n",
      "ESTADO                0\n",
      "COORD_GIS_X           0\n",
      "COORD_GIS_Y           0\n",
      "SISTEMA_COORD         0\n",
      "LATITUD               0\n",
      "LONGITUD              0\n",
      "TIPO_VIA              0\n",
      "NOM_VIA               0\n",
      "NUM_VIA               0\n",
      "COD_POSTAL            0\n",
      "DIRECCION_AUX         0\n",
      "NDP                   0\n",
      "FECHA_INSTALACION     0\n",
      "CODIGO_INTERNO        0\n",
      "CONTRATO_COD          0\n",
      "TIPO                  0\n",
      "TOTAL_ELEM            0\n",
      "dtype: int64\n"
     ]
    }
   ],
   "source": [
    "valores_nulos=df_rawdata.isnull().sum()\n",
    "print(valores_nulos)"
   ]
  },
  {
   "cell_type": "markdown",
   "id": "873b8ff4-758e-4fb2-a5c7-83a1cc6357d7",
   "metadata": {},
   "source": [
    "# 8. Veamos como queda el Dataframe resumido tras la eliminación de los valores nulos:"
   ]
  },
  {
   "cell_type": "code",
   "execution_count": 13,
   "id": "04f4a3c4-eece-49bc-8036-93a9257d641e",
   "metadata": {},
   "outputs": [
    {
     "data": {
      "text/plain": [
       "(1883, 23)"
      ]
     },
     "execution_count": 13,
     "metadata": {},
     "output_type": "execute_result"
    }
   ],
   "source": [
    "df_rawdata.shape"
   ]
  },
  {
   "cell_type": "markdown",
   "id": "4fc93edf-2afd-4d5a-bdbb-8a1693fdd12b",
   "metadata": {},
   "source": [
    "Del total de 2162 filas, nos quedamos con 1883 filas que contienen datos con valores no nulos."
   ]
  },
  {
   "cell_type": "markdown",
   "id": "49e38dbd-028b-4ef0-bbbf-775bff150dd0",
   "metadata": {},
   "source": [
    "# 9. Cambio de los formatos de las columnas COD_POSTAL y FECHA_INSTALACIÓN:"
   ]
  },
  {
   "cell_type": "code",
   "execution_count": 14,
   "id": "da51a9b1-f8c2-4447-a858-827817a57f28",
   "metadata": {},
   "outputs": [
    {
     "name": "stdout",
     "output_type": "stream",
     "text": [
      "1       28035\n",
      "4       28032\n",
      "7       28011\n",
      "8        2805\n",
      "9       28012\n",
      "        ...  \n",
      "2155    28035\n",
      "2156    28042\n",
      "2157    28041\n",
      "2158    28042\n",
      "2160    28025\n",
      "Name: COD_POSTAL, Length: 1883, dtype: object\n"
     ]
    }
   ],
   "source": [
    "df_rawdata['COD_POSTAL'] = df_rawdata['COD_POSTAL'].astype(str).str.rstrip('.0')\n",
    "print(df_rawdata['COD_POSTAL'])"
   ]
  },
  {
   "cell_type": "code",
   "execution_count": 15,
   "id": "6279f0f1-4f53-43a2-8da0-e89f83ac9f5b",
   "metadata": {},
   "outputs": [
    {
     "name": "stdout",
     "output_type": "stream",
     "text": [
      "1       2007-01-09\n",
      "4       2003-01-01\n",
      "7       2006-06-19\n",
      "8       2002-01-01\n",
      "9       2007-05-17\n",
      "           ...    \n",
      "2155    2006-04-18\n",
      "2156    2007-01-01\n",
      "2157    2004-01-01\n",
      "2158    2006-01-01\n",
      "2160    2004-01-01\n",
      "Name: FECHA_INSTALACION, Length: 1883, dtype: object\n"
     ]
    }
   ],
   "source": [
    "df_rawdata['FECHA_INSTALACION'] = pd.to_datetime(df_rawdata['FECHA_INSTALACION'])\n",
    "df_rawdata['FECHA_INSTALACION'] = df_rawdata['FECHA_INSTALACION'].dt.date\n",
    "print(df_rawdata['FECHA_INSTALACION'])"
   ]
  },
  {
   "cell_type": "markdown",
   "id": "ad1def8d-96b1-432b-ae11-2737c9c0ee9b",
   "metadata": {},
   "source": [
    "Con la función astype y to.datetime, hemos cambiado el formato de las columnas 'COD_POSTAL' y 'FECHA_INSTALACIÓN' para que los datos que se muestren en estas columnas se puedan ver de manera adecuada. A través de está homgeneización de los datos, podemos observar que, en la columna 'COD_POSTAL' todavía hay datos que no están del todo correctos. Códigos postales con 4 dígitos en vez de 5."
   ]
  },
  {
   "cell_type": "markdown",
   "id": "4e9372bb-fc8f-4532-934f-48b2ebc1b5b2",
   "metadata": {},
   "source": [
    "# 10. Filtrado de datos en la columna 'COD_POSTAL':"
   ]
  },
  {
   "cell_type": "code",
   "execution_count": 16,
   "id": "3fe48eb2-9b89-4c80-87ca-4d692ea7fa47",
   "metadata": {},
   "outputs": [
    {
     "name": "stdout",
     "output_type": "stream",
     "text": [
      "(145, 23)\n"
     ]
    }
   ],
   "source": [
    "filas_incorrectas = df_rawdata[df_rawdata['COD_POSTAL'].astype(str).str.len() !=5]\n",
    "print(filas_incorrectas.shape)"
   ]
  },
  {
   "cell_type": "markdown",
   "id": "f0d0574d-df99-4fc9-9d34-6d41137666f7",
   "metadata": {},
   "source": [
    "A través del filtrado, podemos observar el número de filas que no contienen 5 dígitos en la columna de 'COD_POSTAL'. Al ser un valor no elevado, decido eliminar estas filas del Dataframe original."
   ]
  },
  {
   "cell_type": "markdown",
   "id": "2f4451e2-c522-481c-be19-b8b455adb3bd",
   "metadata": {},
   "source": [
    "# 11. Eliminación de datos en columna 'COD_POSTAL'"
   ]
  },
  {
   "cell_type": "code",
   "execution_count": 17,
   "id": "72815c20-9c2e-4869-b47c-160a105efe1b",
   "metadata": {},
   "outputs": [
    {
     "name": "stdout",
     "output_type": "stream",
     "text": [
      "(1738, 23)\n"
     ]
    }
   ],
   "source": [
    "df_rawdata = df_rawdata[df_rawdata['COD_POSTAL'].astype(str).str.len() == 5].reset_index(drop=True)\n",
    "print(df_rawdata.shape)\n"
   ]
  },
  {
   "cell_type": "markdown",
   "id": "8688bd5e-a206-45ff-aca5-ec5eda98883a",
   "metadata": {},
   "source": [
    "A hora podemos ver que las filas que no contenian 5 dígitos en la columna 'COD_POSTAL' han sido eliminadas del Dataframe original."
   ]
  },
  {
   "cell_type": "markdown",
   "id": "1a57278b-fe3a-4409-9fd7-1b2970dde790",
   "metadata": {},
   "source": [
    "# 12. Filtrado de datos"
   ]
  },
  {
   "cell_type": "code",
   "execution_count": 18,
   "id": "04267f31-6d5a-4a01-a762-d13ba50445c6",
   "metadata": {},
   "outputs": [
    {
     "name": "stdout",
     "output_type": "stream",
     "text": [
      "['OPERATIVO']\n"
     ]
    }
   ],
   "source": [
    "print(df_rawdata['ESTADO'].unique())"
   ]
  },
  {
   "cell_type": "markdown",
   "id": "d48d40b7-7a81-4499-ae0c-d229ca5cbb26",
   "metadata": {},
   "source": [
    "Para explorar la viabilidad de filtrar los datos en base a la columna 'ESTADO' utilizamos el método unique. Con este código vemos que esta variable no nos sirve para poder hacer el filtrado, por lo tanto, buscamos otra que si sirva."
   ]
  },
  {
   "cell_type": "markdown",
   "id": "e706a75e-8602-43f2-a3ad-5be4bd629d32",
   "metadata": {},
   "source": [
    "# 13. Filtrado por 'COD_BARRIO' 101"
   ]
  },
  {
   "cell_type": "code",
   "execution_count": 19,
   "id": "3d3a2d89-44ae-4b20-a885-6ca5df1519ce",
   "metadata": {},
   "outputs": [
    {
     "name": "stdout",
     "output_type": "stream",
     "text": [
      "         ID DESC_CLASIFICACION  COD_BARRIO        BARRIO  COD_DISTRITO  \\\n",
      "301   17330      Área Infantil         101  LOS CARMENES            10   \n",
      "343   17355      Área Infantil         101  LOS CARMENES            10   \n",
      "385   17360      Área Infantil         101  LOS CARMENES            10   \n",
      "413   17341      Área Infantil         101  LOS CARMENES            10   \n",
      "463   17329      Área Infantil         101  LOS CARMENES            10   \n",
      "540   17352      Área Infantil         101  LOS CARMENES            10   \n",
      "632   17344      Área Infantil         101  LOS CARMENES            10   \n",
      "695   17331      Área Infantil         101  LOS CARMENES            10   \n",
      "811   17356      Área Infantil         101  LOS CARMENES            10   \n",
      "949   17342      Área Infantil         101  LOS CARMENES            10   \n",
      "1022  17385      Área Infantil         101  LOS CARMENES            10   \n",
      "1042  17394      Área Infantil         101  LOS CARMENES            10   \n",
      "1287  17365      Área Infantil         101  LOS CARMENES            10   \n",
      "\n",
      "     DISTRITO     ESTADO  COORD_GIS_X  COORD_GIS_Y SISTEMA_COORD  ...  \\\n",
      "301    LATINA  OPERATIVO   437315.713  4472466.206        ETRS89  ...   \n",
      "343    LATINA  OPERATIVO   437948.519  4473023.787        ETRS89  ...   \n",
      "385    LATINA  OPERATIVO   436875.766  4472427.043        ETRS89  ...   \n",
      "413    LATINA  OPERATIVO   437325.879  4472713.098        ETRS89  ...   \n",
      "463    LATINA  OPERATIVO   437339.227  4472523.816        ETRS89  ...   \n",
      "540    LATINA  OPERATIVO   437779.896  4472910.954        ETRS89  ...   \n",
      "632    LATINA  OPERATIVO   436865.547  4472701.561        ETRS89  ...   \n",
      "695    LATINA  OPERATIVO   437297.367  4472526.611        ETRS89  ...   \n",
      "811    LATINA  OPERATIVO   438444.074  4473080.898        ETRS89  ...   \n",
      "949    LATINA  OPERATIVO   436887.552  4472703.693        ETRS89  ...   \n",
      "1022   LATINA  OPERATIVO   437444.159  4472802.907        ETRS89  ...   \n",
      "1042   LATINA  OPERATIVO   437172.106  4472431.364        ETRS89  ...   \n",
      "1287   LATINA  OPERATIVO   437097.155  4471990.791        ETRS89  ...   \n",
      "\n",
      "                                     NOM_VIA  NUM_VIA COD_POSTAL  \\\n",
      "301   CONCEJAL FRANCISCO JOSE JIMENEZ MARTIN        7      28047   \n",
      "343                           PABLO SARASATE       14      28047   \n",
      "385   CONCEJAL FRANCISCO JOSE JIMENEZ MARTIN      120      28047   \n",
      "413                                  VIÑEGRA        6      28047   \n",
      "463   CONCEJAL FRANCISCO JOSE JIMENEZ MARTIN        7      28047   \n",
      "540                             LUISA MURIEL        2      28047   \n",
      "632                           CARLOS FUENTES        2      28047   \n",
      "695   CONCEJAL FRANCISCO JOSE JIMENEZ MARTIN        7      28047   \n",
      "811                         ERMITA DEL SANTO       66      28011   \n",
      "949                           CARLOS FUENTES       19      28047   \n",
      "1022                            GOTARRENDURA        2      28047   \n",
      "1042  CONCEJAL FRANCISCO JOSE JIMENEZ MARTIN        7      28047   \n",
      "1287                             ESCALONILLA       19      28047   \n",
      "\n",
      "                                          DIRECCION_AUX         NDP  \\\n",
      "301   PARQUE CONCEJAL FCO. JOSE JIMENEZ MARTIN CON C...  31012807.0   \n",
      "343        CALLE PABLO SARASATE 14 , ASCENDIENTE 1: 101  20085841.0   \n",
      "385   CALLE CONCEJAL FCO. JOSE JIMENEZ MARTIN C/ ALH...  20086518.0   \n",
      "413   CALLE VIÑEGRA ZONA 2, ASCENDIENTE 1: 101 · CÁR...  20089359.0   \n",
      "463   PARQUE CONCEJAL FCO. JOSE JIMENEZ MARTIN CON C...  31012807.0   \n",
      "540   CALLE SEPULVEDA 109-111, ASCENDIENTE 1: 101 · ...  11059611.0   \n",
      "632   CALLE CARLOS FUENTES ALHAMBRA 2, ASCENDIENTE 1...  31053835.0   \n",
      "695   PARQUE CONCEJAL FCO. JOSE JIMENEZ MARTIN CON C...  31012807.0   \n",
      "811   PARQUE ERMITA PSO. ERMITA DEL SANTO CON VIA CA...  20075161.0   \n",
      "949   CALLE CARLOS FUENTES ALHAMBRA 1, ASCENDIENTE 1...  11059668.0   \n",
      "1022  CALLE SEPULVEDA C/ GOTARRENDURA, ASCENDIENTE 1...  20086923.0   \n",
      "1042       PARQUE CUÑA VERDE , ASCENDIENTE 1: 101 · CÁR  31012807.0   \n",
      "1287  CALLE ESCALONILLA 19 CON C/ GALLUR, ASCENDIENT...  11059305.0   \n",
      "\n",
      "     FECHA_INSTALACION CODIGO_INTERNO  CONTRATO_COD      TIPO TOTAL_ELEM  \n",
      "301         2006-06-19          10055          AE21  INFANTIL          3  \n",
      "343         2007-02-13          10081          AE21  INFANTIL         14  \n",
      "385         2005-01-17          10086          AE21  INFANTIL         27  \n",
      "413         2005-04-28          10068          AE21  INFANTIL          7  \n",
      "463         2005-01-14          10054          AE21  INFANTIL          5  \n",
      "540         2007-02-13          10079          AE21  INFANTIL         11  \n",
      "632         2004-12-10          10070          AE21  INFANTIL          8  \n",
      "695         2005-01-12          10056          AE21  INFANTIL          6  \n",
      "811         2007-02-20          10082          AE21  INFANTIL         23  \n",
      "949         2004-12-10          10069          AE21  INFANTIL          5  \n",
      "1022        2006-06-21          10121          AE21  INFANTIL          6  \n",
      "1042        2007-04-10          10135          AE21  INFANTIL          6  \n",
      "1287        2005-01-24          10093          AE21  INFANTIL          9  \n",
      "\n",
      "[13 rows x 23 columns]\n"
     ]
    }
   ],
   "source": [
    "filtrado_barrio_101 = df_rawdata[df_rawdata['COD_BARRIO'] ==101]\n",
    "nuevo_dataframe = filtrado_barrio_101\n",
    "print(nuevo_dataframe)"
   ]
  },
  {
   "cell_type": "markdown",
   "id": "1f5298b6-bd9d-488f-a745-2ccb131f4c4a",
   "metadata": {},
   "source": [
    "Tras realizar el filtro por el código del barrio observamos que el código 101 se trata del distrinto la LATINA y a en este distrito se ha realizado 13 instalaciones de áreas infantiles entre los años 2004 y 2007."
   ]
  },
  {
   "cell_type": "markdown",
   "id": "02fb7a3d-7fb4-4ec4-b914-bea3e6b5f160",
   "metadata": {},
   "source": [
    "# 14. Suma de la columna 'TOTAL_ELEM':"
   ]
  },
  {
   "cell_type": "code",
   "execution_count": 20,
   "id": "606f68bb-2181-4408-b065-55d17952e1c0",
   "metadata": {},
   "outputs": [
    {
     "name": "stdout",
     "output_type": "stream",
     "text": [
      "         ID DESC_CLASIFICACION  COD_BARRIO        BARRIO  COD_DISTRITO  \\\n",
      "301   17330      Área Infantil         101  LOS CARMENES            10   \n",
      "343   17355      Área Infantil         101  LOS CARMENES            10   \n",
      "385   17360      Área Infantil         101  LOS CARMENES            10   \n",
      "413   17341      Área Infantil         101  LOS CARMENES            10   \n",
      "463   17329      Área Infantil         101  LOS CARMENES            10   \n",
      "540   17352      Área Infantil         101  LOS CARMENES            10   \n",
      "632   17344      Área Infantil         101  LOS CARMENES            10   \n",
      "695   17331      Área Infantil         101  LOS CARMENES            10   \n",
      "811   17356      Área Infantil         101  LOS CARMENES            10   \n",
      "949   17342      Área Infantil         101  LOS CARMENES            10   \n",
      "1022  17385      Área Infantil         101  LOS CARMENES            10   \n",
      "1042  17394      Área Infantil         101  LOS CARMENES            10   \n",
      "1287  17365      Área Infantil         101  LOS CARMENES            10   \n",
      "\n",
      "     DISTRITO     ESTADO  COORD_GIS_X  COORD_GIS_Y SISTEMA_COORD  ...  \\\n",
      "301    LATINA  OPERATIVO   437315.713  4472466.206        ETRS89  ...   \n",
      "343    LATINA  OPERATIVO   437948.519  4473023.787        ETRS89  ...   \n",
      "385    LATINA  OPERATIVO   436875.766  4472427.043        ETRS89  ...   \n",
      "413    LATINA  OPERATIVO   437325.879  4472713.098        ETRS89  ...   \n",
      "463    LATINA  OPERATIVO   437339.227  4472523.816        ETRS89  ...   \n",
      "540    LATINA  OPERATIVO   437779.896  4472910.954        ETRS89  ...   \n",
      "632    LATINA  OPERATIVO   436865.547  4472701.561        ETRS89  ...   \n",
      "695    LATINA  OPERATIVO   437297.367  4472526.611        ETRS89  ...   \n",
      "811    LATINA  OPERATIVO   438444.074  4473080.898        ETRS89  ...   \n",
      "949    LATINA  OPERATIVO   436887.552  4472703.693        ETRS89  ...   \n",
      "1022   LATINA  OPERATIVO   437444.159  4472802.907        ETRS89  ...   \n",
      "1042   LATINA  OPERATIVO   437172.106  4472431.364        ETRS89  ...   \n",
      "1287   LATINA  OPERATIVO   437097.155  4471990.791        ETRS89  ...   \n",
      "\n",
      "      NUM_VIA  COD_POSTAL                                      DIRECCION_AUX  \\\n",
      "301         7       28047  PARQUE CONCEJAL FCO. JOSE JIMENEZ MARTIN CON C...   \n",
      "343        14       28047       CALLE PABLO SARASATE 14 , ASCENDIENTE 1: 101   \n",
      "385       120       28047  CALLE CONCEJAL FCO. JOSE JIMENEZ MARTIN C/ ALH...   \n",
      "413         6       28047  CALLE VIÑEGRA ZONA 2, ASCENDIENTE 1: 101 · CÁR...   \n",
      "463         7       28047  PARQUE CONCEJAL FCO. JOSE JIMENEZ MARTIN CON C...   \n",
      "540         2       28047  CALLE SEPULVEDA 109-111, ASCENDIENTE 1: 101 · ...   \n",
      "632         2       28047  CALLE CARLOS FUENTES ALHAMBRA 2, ASCENDIENTE 1...   \n",
      "695         7       28047  PARQUE CONCEJAL FCO. JOSE JIMENEZ MARTIN CON C...   \n",
      "811        66       28011  PARQUE ERMITA PSO. ERMITA DEL SANTO CON VIA CA...   \n",
      "949        19       28047  CALLE CARLOS FUENTES ALHAMBRA 1, ASCENDIENTE 1...   \n",
      "1022        2       28047  CALLE SEPULVEDA C/ GOTARRENDURA, ASCENDIENTE 1...   \n",
      "1042        7       28047       PARQUE CUÑA VERDE , ASCENDIENTE 1: 101 · CÁR   \n",
      "1287       19       28047  CALLE ESCALONILLA 19 CON C/ GALLUR, ASCENDIENT...   \n",
      "\n",
      "             NDP FECHA_INSTALACION CODIGO_INTERNO CONTRATO_COD      TIPO  \\\n",
      "301   31012807.0        2006-06-19          10055         AE21  INFANTIL   \n",
      "343   20085841.0        2007-02-13          10081         AE21  INFANTIL   \n",
      "385   20086518.0        2005-01-17          10086         AE21  INFANTIL   \n",
      "413   20089359.0        2005-04-28          10068         AE21  INFANTIL   \n",
      "463   31012807.0        2005-01-14          10054         AE21  INFANTIL   \n",
      "540   11059611.0        2007-02-13          10079         AE21  INFANTIL   \n",
      "632   31053835.0        2004-12-10          10070         AE21  INFANTIL   \n",
      "695   31012807.0        2005-01-12          10056         AE21  INFANTIL   \n",
      "811   20075161.0        2007-02-20          10082         AE21  INFANTIL   \n",
      "949   11059668.0        2004-12-10          10069         AE21  INFANTIL   \n",
      "1022  20086923.0        2006-06-21          10121         AE21  INFANTIL   \n",
      "1042  31012807.0        2007-04-10          10135         AE21  INFANTIL   \n",
      "1287  11059305.0        2005-01-24          10093         AE21  INFANTIL   \n",
      "\n",
      "     TOTAL_ELEM TOTAL  \n",
      "301           3     3  \n",
      "343          14    17  \n",
      "385          27    44  \n",
      "413           7    51  \n",
      "463           5    56  \n",
      "540          11    67  \n",
      "632           8    75  \n",
      "695           6    81  \n",
      "811          23   104  \n",
      "949           5   109  \n",
      "1022          6   115  \n",
      "1042          6   121  \n",
      "1287          9   130  \n",
      "\n",
      "[13 rows x 24 columns]\n"
     ]
    }
   ],
   "source": [
    "nuevo_dataframe = df_rawdata[df_rawdata['COD_BARRIO'] == 101].copy()\n",
    "nuevo_dataframe['TOTAL'] = nuevo_dataframe['TOTAL_ELEM'].cumsum()\n",
    "print(nuevo_dataframe)"
   ]
  },
  {
   "cell_type": "markdown",
   "id": "d4a13f9d-0dda-43ea-8a04-874534d41963",
   "metadata": {},
   "source": [
    "Sobre el filtrado realizado en la columna 'COD_BARRIO', hacemos una suma del total de elementos que se han instalado. El resultado son 130 elementos instalados en el barrio de la Latina en el periodo de 2004 y 2007."
   ]
  },
  {
   "cell_type": "markdown",
   "id": "f63b725b-83ee-43dd-a9f5-b2469901fa28",
   "metadata": {},
   "source": [
    "# 15. Ordenar el nuevo Dataframe en base a la fecha de instalación ('FECHA_INSTALACION'), de más antiguo a más reciente:  "
   ]
  },
  {
   "cell_type": "code",
   "execution_count": 21,
   "id": "eaad8221-7d5f-43c8-8fc2-59577e63c567",
   "metadata": {},
   "outputs": [
    {
     "name": "stdout",
     "output_type": "stream",
     "text": [
      "         ID DESC_CLASIFICACION  COD_BARRIO        BARRIO  COD_DISTRITO  \\\n",
      "632   17344      Área Infantil         101  LOS CARMENES            10   \n",
      "949   17342      Área Infantil         101  LOS CARMENES            10   \n",
      "695   17331      Área Infantil         101  LOS CARMENES            10   \n",
      "463   17329      Área Infantil         101  LOS CARMENES            10   \n",
      "385   17360      Área Infantil         101  LOS CARMENES            10   \n",
      "1287  17365      Área Infantil         101  LOS CARMENES            10   \n",
      "413   17341      Área Infantil         101  LOS CARMENES            10   \n",
      "301   17330      Área Infantil         101  LOS CARMENES            10   \n",
      "1022  17385      Área Infantil         101  LOS CARMENES            10   \n",
      "343   17355      Área Infantil         101  LOS CARMENES            10   \n",
      "540   17352      Área Infantil         101  LOS CARMENES            10   \n",
      "811   17356      Área Infantil         101  LOS CARMENES            10   \n",
      "1042  17394      Área Infantil         101  LOS CARMENES            10   \n",
      "\n",
      "     DISTRITO     ESTADO  COORD_GIS_X  COORD_GIS_Y SISTEMA_COORD  ...  \\\n",
      "632    LATINA  OPERATIVO   436865.547  4472701.561        ETRS89  ...   \n",
      "949    LATINA  OPERATIVO   436887.552  4472703.693        ETRS89  ...   \n",
      "695    LATINA  OPERATIVO   437297.367  4472526.611        ETRS89  ...   \n",
      "463    LATINA  OPERATIVO   437339.227  4472523.816        ETRS89  ...   \n",
      "385    LATINA  OPERATIVO   436875.766  4472427.043        ETRS89  ...   \n",
      "1287   LATINA  OPERATIVO   437097.155  4471990.791        ETRS89  ...   \n",
      "413    LATINA  OPERATIVO   437325.879  4472713.098        ETRS89  ...   \n",
      "301    LATINA  OPERATIVO   437315.713  4472466.206        ETRS89  ...   \n",
      "1022   LATINA  OPERATIVO   437444.159  4472802.907        ETRS89  ...   \n",
      "343    LATINA  OPERATIVO   437948.519  4473023.787        ETRS89  ...   \n",
      "540    LATINA  OPERATIVO   437779.896  4472910.954        ETRS89  ...   \n",
      "811    LATINA  OPERATIVO   438444.074  4473080.898        ETRS89  ...   \n",
      "1042   LATINA  OPERATIVO   437172.106  4472431.364        ETRS89  ...   \n",
      "\n",
      "      NUM_VIA  COD_POSTAL                                      DIRECCION_AUX  \\\n",
      "632         2       28047  CALLE CARLOS FUENTES ALHAMBRA 2, ASCENDIENTE 1...   \n",
      "949        19       28047  CALLE CARLOS FUENTES ALHAMBRA 1, ASCENDIENTE 1...   \n",
      "695         7       28047  PARQUE CONCEJAL FCO. JOSE JIMENEZ MARTIN CON C...   \n",
      "463         7       28047  PARQUE CONCEJAL FCO. JOSE JIMENEZ MARTIN CON C...   \n",
      "385       120       28047  CALLE CONCEJAL FCO. JOSE JIMENEZ MARTIN C/ ALH...   \n",
      "1287       19       28047  CALLE ESCALONILLA 19 CON C/ GALLUR, ASCENDIENT...   \n",
      "413         6       28047  CALLE VIÑEGRA ZONA 2, ASCENDIENTE 1: 101 · CÁR...   \n",
      "301         7       28047  PARQUE CONCEJAL FCO. JOSE JIMENEZ MARTIN CON C...   \n",
      "1022        2       28047  CALLE SEPULVEDA C/ GOTARRENDURA, ASCENDIENTE 1...   \n",
      "343        14       28047       CALLE PABLO SARASATE 14 , ASCENDIENTE 1: 101   \n",
      "540         2       28047  CALLE SEPULVEDA 109-111, ASCENDIENTE 1: 101 · ...   \n",
      "811        66       28011  PARQUE ERMITA PSO. ERMITA DEL SANTO CON VIA CA...   \n",
      "1042        7       28047       PARQUE CUÑA VERDE , ASCENDIENTE 1: 101 · CÁR   \n",
      "\n",
      "             NDP FECHA_INSTALACION CODIGO_INTERNO CONTRATO_COD      TIPO  \\\n",
      "632   31053835.0        2004-12-10          10070         AE21  INFANTIL   \n",
      "949   11059668.0        2004-12-10          10069         AE21  INFANTIL   \n",
      "695   31012807.0        2005-01-12          10056         AE21  INFANTIL   \n",
      "463   31012807.0        2005-01-14          10054         AE21  INFANTIL   \n",
      "385   20086518.0        2005-01-17          10086         AE21  INFANTIL   \n",
      "1287  11059305.0        2005-01-24          10093         AE21  INFANTIL   \n",
      "413   20089359.0        2005-04-28          10068         AE21  INFANTIL   \n",
      "301   31012807.0        2006-06-19          10055         AE21  INFANTIL   \n",
      "1022  20086923.0        2006-06-21          10121         AE21  INFANTIL   \n",
      "343   20085841.0        2007-02-13          10081         AE21  INFANTIL   \n",
      "540   11059611.0        2007-02-13          10079         AE21  INFANTIL   \n",
      "811   20075161.0        2007-02-20          10082         AE21  INFANTIL   \n",
      "1042  31012807.0        2007-04-10          10135         AE21  INFANTIL   \n",
      "\n",
      "     TOTAL_ELEM TOTAL  \n",
      "632           8     8  \n",
      "949           5    13  \n",
      "695           6    19  \n",
      "463           5    24  \n",
      "385          27    51  \n",
      "1287          9    60  \n",
      "413           7    67  \n",
      "301           3    70  \n",
      "1022          6    76  \n",
      "343          14    90  \n",
      "540          11   101  \n",
      "811          23   124  \n",
      "1042          6   130  \n",
      "\n",
      "[13 rows x 24 columns]\n"
     ]
    }
   ],
   "source": [
    "nuevo_dataframe = df_rawdata[df_rawdata['COD_BARRIO'] == 101].copy()\n",
    "nuevo_dataframe['FECHA_INSTALACION'] = pd.to_datetime(nuevo_dataframe['FECHA_INSTALACION'])\n",
    "nuevo_dataframe.sort_values(by='FECHA_INSTALACION', inplace=True)\n",
    "nuevo_dataframe['TOTAL'] = nuevo_dataframe['TOTAL_ELEM'].cumsum()\n",
    "print(nuevo_dataframe)"
   ]
  },
  {
   "cell_type": "markdown",
   "id": "4e598761-d0dd-498a-ab1c-d287a8a0025e",
   "metadata": {},
   "source": [
    "Ahora tenemos el Dataframe filtrado por el distrito 101 (corrspondiente al barrio la Latina), con la fecha de instalción ordenada de más antiguo a más reciente y con la nueva columna del total de elementos instalados en las áreas infantiles de este barrio."
   ]
  },
  {
   "cell_type": "markdown",
   "id": "3aa8fb44-90a3-4f0a-80d4-0e525409fdfa",
   "metadata": {},
   "source": [
    "# 16. Agregación con el método groupby"
   ]
  },
  {
   "cell_type": "code",
   "execution_count": 64,
   "id": "920fea57-a05d-462a-8188-dddbd9d01236",
   "metadata": {},
   "outputs": [
    {
     "name": "stdout",
     "output_type": "stream",
     "text": [
      "FECHA_INSTALACION\n",
      "2004-12-10    2\n",
      "2005-01-12    1\n",
      "2005-01-14    1\n",
      "2005-01-17    1\n",
      "2005-01-24    1\n",
      "2005-04-28    1\n",
      "2006-06-19    1\n",
      "2006-06-21    1\n",
      "2007-02-13    2\n",
      "2007-02-20    1\n",
      "2007-04-10    1\n",
      "Name: TOTAL_ELEM, dtype: int64\n"
     ]
    }
   ],
   "source": [
    "print(nuevo_dataframe.groupby('FECHA_INSTALACION')['TOTAL_ELEM'].size())"
   ]
  },
  {
   "cell_type": "markdown",
   "id": "5532b36d-d94e-4474-9e2a-809b66663427",
   "metadata": {},
   "source": [
    "Al tratar de agrupar las columnas 'FECHA_INSTALACION' y 'TOTAL_ELEM'observamos la agrupación no muestra de manera correcta el total de elementos instalados por año en el distrito 101, barrio la Latina. "
   ]
  },
  {
   "cell_type": "markdown",
   "id": "f637e914-56c7-4143-a3d9-021c78176f4d",
   "metadata": {},
   "source": [
    "# 17. Método Groupby en base al año de instalación de los elementos en las áreas infantiles del barrio la Latina."
   ]
  },
  {
   "cell_type": "code",
   "execution_count": 67,
   "id": "2b22a3fe-32dc-48a4-bad4-a9dd09528d1e",
   "metadata": {},
   "outputs": [
    {
     "name": "stdout",
     "output_type": "stream",
     "text": [
      "AÑO_INSTALACION\n",
      "2004    13\n",
      "2005    54\n",
      "2006     9\n",
      "2007    54\n",
      "Name: TOTAL_ELEM, dtype: int64\n"
     ]
    }
   ],
   "source": [
    "nuevo_dataframe['FECHA_INSTALACION'] = pd.to_datetime(nuevo_dataframe['FECHA_INSTALACION'])\n",
    "nuevo_dataframe['AÑO_INSTALACION'] = nuevo_dataframe['FECHA_INSTALACION'].dt.year\n",
    "print(nuevo_dataframe.groupby('AÑO_INSTALACION')['TOTAL_ELEM'].sum())"
   ]
  },
  {
   "cell_type": "markdown",
   "id": "a881ed7e-8295-4bd1-8fce-5d9629b8226d",
   "metadata": {},
   "source": [
    "Tras haber extraído previamente el año de la columna 'FECHA_INSTALACION' y haber creado una nueva columna de 'AÑO_INSTALACION', se ha podido emplear correctamente el método groupby, sin haber almacenado ninguna variable correspodiente al método groupby. El resultado final, nos muestra el total de elementos que se han instalado en el barrio de la Latina por años, del periodo del 2004 al 2007."
   ]
  },
  {
   "cell_type": "markdown",
   "id": "dbae9880",
   "metadata": {},
   "source": [
    "## Evaluación\n",
    "\n",
    "1.\t**Calificación:** 2,5 / 2,5  \n",
    "    **Comentarios:**  \n",
    "2.\t**Calificación:** 2,5 / 2,5  \n",
    "    **Comentarios:**  \n",
    "3.\t**Calificación:** 2,5 / 2,5    \n",
    "    **Comentarios:**    \n",
    "4.\t**Calificación:** 2,5 / 2,5  \n",
    "    **Comentarios:**  \n",
    "\n",
    "### Total: *10 / 10*"
   ]
  }
 ],
 "metadata": {
  "kernelspec": {
   "display_name": "Python 3 (ipykernel)",
   "language": "python",
   "name": "python3"
  },
  "language_info": {
   "codemirror_mode": {
    "name": "ipython",
    "version": 3
   },
   "file_extension": ".py",
   "mimetype": "text/x-python",
   "name": "python",
   "nbconvert_exporter": "python",
   "pygments_lexer": "ipython3",
   "version": "3.13.0"
  }
 },
 "nbformat": 4,
 "nbformat_minor": 5
}
